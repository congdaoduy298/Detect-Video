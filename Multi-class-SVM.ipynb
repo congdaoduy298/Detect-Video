{
 "cells": [
  {
   "cell_type": "code",
   "execution_count": 3,
   "metadata": {},
   "outputs": [
    {
     "name": "stdout",
     "output_type": "stream",
     "text": [
      "loss without regularization :1.812326 \n",
      "loss without regularization :2.391587 \n"
     ]
    }
   ],
   "source": [
    "import numpy as np\n",
    "from random import shuffle\n",
    "\n",
    "def svm_loss_naive(W, X, y, reg):\n",
    "    d, C = W.shape\n",
    "    _, N = X.shape\n",
    "    \n",
    "    \n",
    "    loss = 0 \n",
    "    dW = np.zeros_like(W)\n",
    "    \n",
    "    for n in range(N):\n",
    "        xn = X[:, n]\n",
    "        score = W.T.dot(xn)\n",
    "        for j in range(C):\n",
    "            if j == y[n]:\n",
    "                continue\n",
    "            margin = 1 - score[y[n]] + score[j]\n",
    "            if margin > 0:\n",
    "                loss+=margin\n",
    "                dW[:, j] += xn\n",
    "                dW[:, y[n]] -= xn\n",
    "        \n",
    "    loss /= N\n",
    "    loss += 0.5*reg*np.sum(W*W)\n",
    "    \n",
    "    dW /= N\n",
    "    dW += reg*W\n",
    "    \n",
    "    return loss, dW\n",
    "N, C, d = 10, 3, 5\n",
    "\n",
    "reg = .1\n",
    "W = np.random.randn(d, C)\n",
    "X = np.random.randn(d, N)\n",
    "y = np.random.randint(C, size=N)\n",
    "\n",
    "print('loss without regularization :%f ' %svm_loss_naive(W, X, y, 0)[0])\n",
    "print('loss without regularization :%f ' %svm_loss_naive(W, X, y, .1)[0])"
   ]
  },
  {
   "cell_type": "code",
   "execution_count": 6,
   "metadata": {},
   "outputs": [
    {
     "name": "stdout",
     "output_type": "stream",
     "text": [
      "gradient difference: 0.000000\n"
     ]
    }
   ],
   "source": [
    "f = lambda W: svm_loss_naive(W, X, y, .1)[0]\n",
    "\n",
    "# for checking if calculated grad is correct\n",
    "def numerical_grad_general(W, f):\n",
    "    eps = 1e-6\n",
    "    g = np.zeros_like(W)\n",
    "    # flatening variable -> 1d. Then we need \n",
    "    # only one for loop\n",
    "    W_flattened = W.flatten()\n",
    "    g_flattened = np.zeros_like(W_flattened)\n",
    "    \n",
    "    for i in range(W.size):\n",
    "        W_p = W_flattened.copy()\n",
    "        W_n = W_flattened.copy()\n",
    "        W_p[i] += eps \n",
    "        W_n[i] -= eps \n",
    "        \n",
    "        # back to shape of W \n",
    "        W_p = W_p.reshape(W.shape)\n",
    "        W_n = W_n.reshape(W.shape)\n",
    "        g_flattened[i] = (f(W_p) - f(W_n))/(2*eps)\n",
    "        \n",
    "    # convert back to original shape\n",
    "    return g_flattened.reshape(W.shape) \n",
    "\n",
    "# compare two ways of computing gradient\n",
    "g1 = svm_loss_naive(W, X, y, .1)[1]\n",
    "g2 = numerical_grad_general(W, f)\n",
    "print ('gradient difference: %f' %np.linalg.norm(g1 - g2))\n",
    "# this should be very small\n"
   ]
  },
  {
   "cell_type": "code",
   "execution_count": 7,
   "metadata": {},
   "outputs": [],
   "source": [
    "def svm_loss_vectorized(W, X, y, reg):\n",
    "    d, C = W.shape\n",
    "    _, N = X.shape \n",
    "    loss = 0\n",
    "    dW = np.zeros_like(W)\n",
    "    \n",
    "    Z = W.T.dot(X)\n",
    "    correct_class_score = np.choose(y, X).reshape(N, 1).T\n",
    "    margins = np.maximum(0, Z - correct_class_score + 1)\n",
    "    margins[y, np.arange(margins.shape[1])] = 0\n",
    "    loss = np.sum(margins, axis=(0, 1))\n",
    "    loss /= N \n",
    "    loss += 0.5 * reg * np.sum(W * W)\n",
    "    \n",
    "    F = (margins > 0).astype(int)\n",
    "    F[y, np.arange(F.shape[1])] = np.sum(-F, axis = 0)\n",
    "    dW = X.dot(F.T)/N + reg*W\n",
    "    return loss, dW"
   ]
  },
  {
   "cell_type": "code",
   "execution_count": 10,
   "metadata": {},
   "outputs": [
    {
     "ename": "MemoryError",
     "evalue": "Unable to allocate array with shape (3073, 49000) and data type float64",
     "output_type": "error",
     "traceback": [
      "\u001b[0;31m---------------------------------------------------------------------------\u001b[0m",
      "\u001b[0;31mMemoryError\u001b[0m                               Traceback (most recent call last)",
      "\u001b[0;32m<ipython-input-10-fb650ab88569>\u001b[0m in \u001b[0;36m<module>\u001b[0;34m\u001b[0m\n\u001b[1;32m      2\u001b[0m \u001b[0mreg\u001b[0m \u001b[0;34m=\u001b[0m \u001b[0;36m.1\u001b[0m\u001b[0;34m\u001b[0m\u001b[0;34m\u001b[0m\u001b[0m\n\u001b[1;32m      3\u001b[0m \u001b[0mW\u001b[0m \u001b[0;34m=\u001b[0m \u001b[0mnp\u001b[0m\u001b[0;34m.\u001b[0m\u001b[0mrandom\u001b[0m\u001b[0;34m.\u001b[0m\u001b[0mrandn\u001b[0m\u001b[0;34m(\u001b[0m\u001b[0md\u001b[0m\u001b[0;34m,\u001b[0m \u001b[0mC\u001b[0m\u001b[0;34m)\u001b[0m\u001b[0;34m\u001b[0m\u001b[0;34m\u001b[0m\u001b[0m\n\u001b[0;32m----> 4\u001b[0;31m \u001b[0mX\u001b[0m \u001b[0;34m=\u001b[0m \u001b[0mnp\u001b[0m\u001b[0;34m.\u001b[0m\u001b[0mrandom\u001b[0m\u001b[0;34m.\u001b[0m\u001b[0mrandn\u001b[0m\u001b[0;34m(\u001b[0m\u001b[0md\u001b[0m\u001b[0;34m,\u001b[0m \u001b[0mN\u001b[0m\u001b[0;34m)\u001b[0m\u001b[0;34m\u001b[0m\u001b[0;34m\u001b[0m\u001b[0m\n\u001b[0m\u001b[1;32m      5\u001b[0m \u001b[0my\u001b[0m \u001b[0;34m=\u001b[0m \u001b[0mnp\u001b[0m\u001b[0;34m.\u001b[0m\u001b[0mrandom\u001b[0m\u001b[0;34m.\u001b[0m\u001b[0mrandint\u001b[0m\u001b[0;34m(\u001b[0m\u001b[0mC\u001b[0m\u001b[0;34m,\u001b[0m \u001b[0msize\u001b[0m \u001b[0;34m=\u001b[0m \u001b[0mN\u001b[0m\u001b[0;34m)\u001b[0m\u001b[0;34m\u001b[0m\u001b[0;34m\u001b[0m\u001b[0m\n\u001b[1;32m      6\u001b[0m \u001b[0;34m\u001b[0m\u001b[0m\n",
      "\u001b[0;32mmtrand.pyx\u001b[0m in \u001b[0;36mnumpy.random.mtrand.RandomState.randn\u001b[0;34m()\u001b[0m\n",
      "\u001b[0;32mmtrand.pyx\u001b[0m in \u001b[0;36mnumpy.random.mtrand.RandomState.standard_normal\u001b[0;34m()\u001b[0m\n",
      "\u001b[0;32mcommon.pyx\u001b[0m in \u001b[0;36mnumpy.random.common.cont\u001b[0;34m()\u001b[0m\n",
      "\u001b[0;31mMemoryError\u001b[0m: Unable to allocate array with shape (3073, 49000) and data type float64"
     ]
    }
   ],
   "source": [
    "N, C, d = 49000, 10, 3073\n",
    "reg = .1 \n",
    "W = np.random.randn(d, C)\n",
    "X = np.random.randn(d, N)\n",
    "y = np.random.randint(C, size = N)\n",
    "\n",
    "import time \n",
    "t1 = time.time()\n",
    "l1, dW1 = svm_loss_naive(W, X, y, reg)\n",
    "t2 = time.time()\n",
    "print('Naive     : run time:', t2 - t1, '(s)')\n",
    "\n",
    "t1 = time.time()\n",
    "l2, dW2 = svm_loss_vectorized(W, X, y, reg)\n",
    "t2 = time.time()\n",
    "print('Vectorized: run time:', t2 - t1, '(s)')\n",
    "print('loss difference:', np.linalg.norm(l1 - l2))\n",
    "print('gradient difference:', np.linalg.norm(dW1 - dW2))\n"
   ]
  },
  {
   "cell_type": "code",
   "execution_count": null,
   "metadata": {},
   "outputs": [],
   "source": []
  }
 ],
 "metadata": {
  "kernelspec": {
   "display_name": "Python 3",
   "language": "python",
   "name": "python3"
  },
  "language_info": {
   "codemirror_mode": {
    "name": "ipython",
    "version": 3
   },
   "file_extension": ".py",
   "mimetype": "text/x-python",
   "name": "python",
   "nbconvert_exporter": "python",
   "pygments_lexer": "ipython3",
   "version": "3.6.9"
  }
 },
 "nbformat": 4,
 "nbformat_minor": 2
}
