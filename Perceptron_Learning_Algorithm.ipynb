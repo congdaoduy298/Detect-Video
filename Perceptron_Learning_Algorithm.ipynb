{
 "cells": [
  {
   "cell_type": "code",
   "execution_count": 3,
   "metadata": {},
   "outputs": [],
   "source": [
    "import numpy as np \n",
    "\n",
    "np.random.seed(2)\n",
    "means = [[2, 4], [4, 2]]\n",
    "cov = [[.3, .2], [.2, .3]]\n",
    "\n",
    "N = 10\n",
    "\n",
    "X0 = np.random.multivariate_normal(means[0], cov, N).T\n",
    "X1 = np.random.multivariate_normal(means[1], cov, N).T\n",
    "# print(X0.shape)\n",
    "N = X0.shape[1]\n",
    "X = np.concatenate((X0, X1), axis=1)\n",
    "\n",
    "y = np.concatenate((np.ones((1, N)), -1*np.ones((1, N))), axis=1)\n",
    "# print(y.shape)\n",
    "Xbar = np.concatenate((np.ones((1, 2*N)), X), axis=0)"
   ]
  },
  {
   "cell_type": "code",
   "execution_count": 7,
   "metadata": {},
   "outputs": [
    {
     "name": "stdout",
     "output_type": "stream",
     "text": [
      "5\n"
     ]
    },
    {
     "data": {
      "image/png": "[encoded data removed]",
      "text/plain": [
       "<Figure size 432x288 with 1 Axes>"
      ]
     },
     "metadata": {
      "needs_background": "light"
     },
     "output_type": "display_data"
    }
   ],
   "source": [
    "import matplotlib.pyplot as plt \n",
    "\n",
    "def sgn(tmp):\n",
    "    return 1 if tmp>0 else -1\n",
    "\n",
    "def Perceptron_learning_algorithm(w_init):\n",
    "    w = [w_init]\n",
    "    flag = True\n",
    "    count = 0\n",
    "    while flag:\n",
    "        rd_id = np.random.permutation(2*N)\n",
    "        flag = False\n",
    "        for i in range(2*N):\n",
    "            \n",
    "            id = rd_id[i]\n",
    "            d = Xbar.shape[0]\n",
    "            x_id = Xbar[:, id].reshape(d, 1)\n",
    "#             print(x_id.shape)\n",
    "            if sgn(np.dot(w[-1].T, x_id)) != y[0][id]:\n",
    "                count+=1\n",
    "                w_new = w[-1] + x_id*y[0][id]\n",
    "                w.append(w_new)\n",
    "                flag = True\n",
    "               \n",
    "    \n",
    "    return w, count\n",
    "\n",
    "\n",
    "def draw_line(w):\n",
    "    w0, w1, w2 = w[0], w[1], w[2]\n",
    "    if w2 != 0:\n",
    "        x11, x12 = -5, 5\n",
    "        return plt.plot([x11, x12], [-(w1*x11 + w0)/w2, -(w1*x12 + w0)/w2], 'k')\n",
    "    else:\n",
    "        x10 = -w0/w1\n",
    "        return plt.plot([x10, x10], [-5, 5], 'k')\n",
    "    \n",
    "w = np.random.randn(3, 1)\n",
    "w0, count = Perceptron_learning_algorithm(w)\n",
    "print(len(w0))\n",
    "# print(count)\n",
    "for i in range(len(w0)):\n",
    "    \n",
    "    draw_line(w0[i])\n",
    "plt.plot(X0[0, :], X0[1, :], 'bo')\n",
    "plt.plot(X1[0, :], X1[1, :], 'r^')\n",
    "plt.axis([-5, 5, -5, 5])\n",
    "plt.show()"
   ]
  },
  {
   "cell_type": "code",
   "execution_count": 9,
   "metadata": {},
   "outputs": [
    {
     "name": "stdout",
     "output_type": "stream",
     "text": [
      "[7, 10, 0, 18, 3, 6, 14, 9, 7, 17, 0, 19, 3, 2, 12, 6, 11, 7]\n"
     ]
    },
    {
     "data": {
      "image/png": "[encoded data removed]",
      "text/plain": [
       "<Figure size 360x360 with 1 Axes>"
      ]
     },
     "metadata": {},
     "output_type": "display_data"
    },
    {
     "name": "stdout",
     "output_type": "stream",
     "text": [
      "finished!\n"
     ]
    }
   ],
   "source": [
    "import numpy as np \n",
    "import matplotlib.pyplot as plt\n",
    "from scipy.spatial.distance import cdist\n",
    "np.random.seed(2)\n",
    "\n",
    "means = [[2, 2], [4, 2]]\n",
    "cov = [[.3, .2], [.2, .3]]\n",
    "N = 10\n",
    "X0 = np.random.multivariate_normal(means[0], cov, N).T\n",
    "X1 = np.random.multivariate_normal(means[1], cov, N).T\n",
    "\n",
    "X = np.concatenate((X0, X1), axis = 1)\n",
    "y = np.concatenate((np.ones((1, N)), -1*np.ones((1, N))), axis = 1)\n",
    "# Xbar \n",
    "X = np.concatenate((np.ones((1, 2*N)), X), axis = 0)\n",
    "\n",
    "\n",
    "def h(w, x):    \n",
    "    return np.sign(np.dot(w.T, x))\n",
    "\n",
    "def has_converged(X, y, w):\n",
    "    \n",
    "    return np.array_equal(h(w, X), y) #True if h(w, X) == y else False\n",
    "\n",
    "def perceptron(X, y, w_init):\n",
    "    w = [w_init]\n",
    "    N = X.shape[1]\n",
    "    mis_points = []\n",
    "    while True:\n",
    "        # mix data \n",
    "        mix_id = np.random.permutation(N)\n",
    "        for i in range(N):\n",
    "            xi = X[:, mix_id[i]].reshape(3, 1)\n",
    "            yi = y[0, mix_id[i]]\n",
    "            if h(w[-1], xi)[0] != yi:\n",
    "                mis_points.append(mix_id[i])\n",
    "                w_new = w[-1] + yi*xi \n",
    "\n",
    "                w.append(w_new)\n",
    "                \n",
    "        if has_converged(X, y, w[-1]):\n",
    "            break\n",
    "    return (w, mis_points)\n",
    "\n",
    "d = X.shape[0]\n",
    "w_init = np.random.randn(d, 1)\n",
    "(w, m) = perceptron(X, y, w_init)\n",
    "print(m)\n",
    "# print(w)\n",
    "# print(len(w))\n",
    "\n",
    "def draw_line(w):\n",
    "    w0, w1, w2 = w[0], w[1], w[2]\n",
    "    if w2 != 0:\n",
    "        x11, x12 = -100, 100\n",
    "        return plt.plot([x11, x12], [-(w1*x11 + w0)/w2, -(w1*x12 + w0)/w2], 'k')\n",
    "    else:\n",
    "        x10 = -w0/w1\n",
    "        return plt.plot([x10, x10], [-100, 100], 'k')\n",
    "\n",
    "\n",
    "## Visualization\n",
    "import matplotlib.animation as animation\n",
    "from matplotlib.animation import FuncAnimation \n",
    "def viz_alg_1d_2(w):\n",
    "    it = len(w)    \n",
    "    fig, ax = plt.subplots(figsize=(5, 5))  \n",
    "    \n",
    "    def update(i):\n",
    "        ani = plt.cla()\n",
    "        #points\n",
    "        ani = plt.plot(X0[0, :], X0[1, :], 'b^', markersize = 8, alpha = .8)\n",
    "        ani = plt.plot(X1[0, :], X1[1, :], 'ro', markersize = 8, alpha = .8)\n",
    "        ani = plt.axis([0 , 6, -2, 4])\n",
    "        i2 =  i if i < it else it-1\n",
    "        ani = draw_line(w[i2])\n",
    "        if i < it-1:\n",
    "            # draw one  misclassified point\n",
    "            circle = plt.Circle((X[1, m[i]], X[2, m[i]]), 0.15, color='k', fill = False)\n",
    "            ax.add_artist(circle)\n",
    "        # hide axis \n",
    "        cur_axes = plt.gca()\n",
    "        cur_axes.axes.get_xaxis().set_ticks([])\n",
    "        cur_axes.axes.get_yaxis().set_ticks([])\n",
    "\n",
    "        label = 'PLA: iter %d/%d' %(i2, it-1)\n",
    "        ax.set_xlabel(label)\n",
    "        return ani, ax \n",
    "        \n",
    "    anim = FuncAnimation(fig, update, frames=np.arange(0, it + 2), interval=1000)\n",
    "    # save \n",
    "    anim.save('pla_vis.gif', dpi = 100, writer = 'imagemagick')\n",
    "    plt.show()\n",
    "    \n",
    "viz_alg_1d_2(w)\n",
    "print('finished!')"
   ]
  },
  {
   "cell_type": "code",
   "execution_count": null,
   "metadata": {},
   "outputs": [],
   "source": []
  }
 ],
 "metadata": {
  "kernelspec": {
   "display_name": "Python 3",
   "language": "python",
   "name": "python3"
  },
  "language_info": {
   "codemirror_mode": {
    "name": "ipython",
    "version": 3
   },
   "file_extension": ".py",
   "mimetype": "text/x-python",
   "name": "python",
   "nbconvert_exporter": "python",
   "pygments_lexer": "ipython3",
   "version": "3.6.9"
  }
 },
 "nbformat": 4,
 "nbformat_minor": 2
}
