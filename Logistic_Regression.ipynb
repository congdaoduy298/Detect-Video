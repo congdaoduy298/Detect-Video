{
 "cells": [
  {
   "cell_type": "code",
   "execution_count": 18,
   "metadata": {},
   "outputs": [],
   "source": [
    "import numpy as np \n",
    "\n",
    "np.random.seed(2)\n",
    "X = np.array([[0.50, 0.75, 1.00, 1.25, 1.50, 1.75, 1.75, 2.00, 2.25, 2.50, \n",
    "              2.75, 3.00, 3.25, 3.50, 4.00, 4.25, 4.50, 4.75, 5.00, 5.50]])\n",
    "y = np.array([0, 0, 0, 0, 0, 0, 1, 0, 1, 0, 1, 0, 1, 0, 1, 1, 1, 1, 1, 1])\n",
    "\n",
    "# extended data \n",
    "X = np.concatenate((np.ones((1, X.shape[1])), X), axis = 0)"
   ]
  },
  {
   "cell_type": "code",
   "execution_count": 36,
   "metadata": {},
   "outputs": [
    {
     "name": "stdout",
     "output_type": "stream",
     "text": [
      "[[-4.12833004]\n",
      " [ 1.46348961]]\n",
      "[[0.03240235 0.0460575  0.0650802  0.09120846 0.12640834 0.1726126\n",
      "  0.1726126  0.231235   0.30248793 0.3847095  0.47408982 0.56516198\n",
      "  0.65203837 0.72985432 0.84885239 0.89007435 0.92109897 0.94391912\n",
      "  0.96042271 0.98056137]]\n",
      "10000\n"
     ]
    }
   ],
   "source": [
    "def sigmoid(s):\n",
    "    return 1/(1+np.exp(-s))\n",
    "\n",
    "def SGD_Logistic_Regression(w_init, eta, max_count=10000):\n",
    "    w = [w_init]\n",
    "    EPOCHS = 10\n",
    "    N = X.shape[1]\n",
    "    d = w_init.shape[0]\n",
    "    count = 0\n",
    "    while count < max_count:\n",
    "        rd_id = np.random.permutation(N)\n",
    "        for i in rd_id:\n",
    "            count+=1\n",
    "            xi = X[:,i].reshape((d, 1))\n",
    "            yi = y[i]\n",
    "            zi = sigmoid(np.dot(w[-1].T, xi))\n",
    "            w_new = w[-1] + eta*(yi-zi)*xi\n",
    "            w.append(w_new)\n",
    "            if np.linalg.norm(w[-1]-w[-2]) < 1e-4:\n",
    "                return w, count\n",
    "            \n",
    "    return w, count\n",
    "\n",
    "d = X.shape[0]\n",
    "w_init = np.random.randn(d, 1)\n",
    "\n",
    "w, count = SGD_Logistic_Regression(w_init, .05)\n",
    "\n",
    "print(w[-1])\n",
    "print(sigmoid(np.dot(w[-1].T, X)))\n",
    "print(count)"
   ]
  },
  {
   "cell_type": "code",
   "execution_count": 60,
   "metadata": {},
   "outputs": [
    {
     "data": {
      "image/png": "[encoded data removed]",
      "text/plain": [
       "<Figure size 432x288 with 1 Axes>"
      ]
     },
     "metadata": {
      "needs_background": "light"
     },
     "output_type": "display_data"
    }
   ],
   "source": [
    "import matplotlib.pyplot as plt\n",
    "\n",
    "X0 = X[1, np.where(y==0)][0]\n",
    "y0 = y[np.where(y==0)]\n",
    "X1 = X[1, np.where(y==1)][0]\n",
    "y1 = y[np.where(y==1)]\n",
    "\n",
    "xx = np.linspace(0, 6, 1000)\n",
    "w0 = w[-1][0][0]\n",
    "w1 = w[-1][1][0]\n",
    "threshold = -w0/w1\n",
    "yy = sigmoid(w0 + w1*xx)\n",
    "plt.axis([-2, 8, -1, 2])\n",
    "plt.plot(xx, yy, 'g-', linewidth = 2)\n",
    "plt.plot(threshold, .5, 'y^', markersize = 8)\n",
    "plt.xlabel('studying hours')\n",
    "plt.ylabel('predicted probability of pass')\n",
    "# plt.show()\n",
    "\n",
    "plt.plot(X0, y0, 'bo')\n",
    "plt.plot(X1, y1, 'y^')\n",
    "plt.axis([0, 6, -1, 2])\n",
    "plt.show()"
   ]
  },
  {
   "cell_type": "code",
   "execution_count": null,
   "metadata": {},
   "outputs": [],
   "source": []
  }
 ],
 "metadata": {
  "kernelspec": {
   "display_name": "Python 3",
   "language": "python",
   "name": "python3"
  },
  "language_info": {
   "codemirror_mode": {
    "name": "ipython",
    "version": 3
   },
   "file_extension": ".py",
   "mimetype": "text/x-python",
   "name": "python",
   "nbconvert_exporter": "python",
   "pygments_lexer": "ipython3",
   "version": "3.6.9"
  }
 },
 "nbformat": 4,
 "nbformat_minor": 2
}
