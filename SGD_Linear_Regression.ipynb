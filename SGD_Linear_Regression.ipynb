{
 "cells": [
  {
   "cell_type": "code",
   "execution_count": 39,
   "metadata": {},
   "outputs": [
    {
     "name": "stdout",
     "output_type": "stream",
     "text": [
      "Solution found by formula: w =  [[4.0071715  2.98225924]]\n"
     ]
    },
    {
     "data": {
      "image/png": "[encoded data removed]",
      "text/plain": [
       "<Figure size 432x288 with 1 Axes>"
      ]
     },
     "metadata": {
      "needs_background": "light"
     },
     "output_type": "display_data"
    }
   ],
   "source": [
    "# To support both python 2 and python 3\n",
    "from __future__ import division, print_function, unicode_literals\n",
    "import numpy as np \n",
    "import matplotlib\n",
    "import matplotlib.pyplot as plt\n",
    "np.random.seed(2)\n",
    "X = np.random.rand(1000, 1)\n",
    "y = 4 + 3 * X + .2*np.random.randn(1000, 1) # noise added\n",
    "\n",
    "# Building Xbar \n",
    "one = np.ones((X.shape[0],1))\n",
    "Xbar = np.concatenate((one, X), axis = 1)\n",
    "\n",
    "A = np.dot(Xbar.T, Xbar)\n",
    "b = np.dot(Xbar.T, y)\n",
    "w_lr = np.dot(np.linalg.pinv(A), b)\n",
    "print('Solution found by formula: w = ',w_lr.T)\n",
    "\n",
    "# Display result\n",
    "w = w_lr\n",
    "w_0 = w[0][0]\n",
    "w_1 = w[1][0]\n",
    "x0 = np.linspace(0, 1, 2, endpoint=True)\n",
    "y0 = w_0 + w_1*x0\n",
    "\n",
    "# Draw the fitting line \n",
    "plt.plot(X.T, y.T, 'b.')     # data \n",
    "plt.plot(x0, y0, 'y', linewidth = 2)   # the fitting line\n",
    "plt.axis([0, 1, 0, 10])\n",
    "plt.show()"
   ]
  },
  {
   "cell_type": "code",
   "execution_count": 49,
   "metadata": {},
   "outputs": [
    {
     "name": "stdout",
     "output_type": "stream",
     "text": [
      "0.5257280319313269\n",
      "0.4891784365732745\n",
      "0.3876180102493447\n",
      "0.3791168700699284\n",
      "0.30183915026433894\n",
      "0.27382194124330517\n",
      "0.2283523347499771\n",
      "0.21603127073225503\n",
      "0.1733706569102545\n",
      "0.19828027423776806\n",
      "0.14414168000560296\n",
      "0.14918969142807184\n",
      "0.11082881452915443\n",
      "0.1238573714567797\n",
      "0.09867442554943905\n",
      "0.07734400256307351\n",
      "0.06522993737486257\n",
      "0.04706065226566606\n",
      "0.05903767469782559\n",
      "0.04224541677417123\n",
      "0.03989972278442277\n",
      "0.04522435023272386\n",
      "0.04500719959542803\n",
      "0.030746146181715894\n",
      "0.03519292596567468\n",
      "0.017236252032814356\n",
      "0.013489672813484965\n",
      "0.018580165811230714\n",
      "0.02093392558506871\n",
      "0.012858867620517515\n",
      "0.01868447950483387\n",
      "0.0051515250278020095\n",
      "0.015348059142638648\n",
      "0.010426979733899604\n",
      "0.0013525745858759314\n",
      "[[3.93836015]\n",
      " [2.99180547]]\n",
      "0.026078462600708008\n"
     ]
    }
   ],
   "source": [
    "import time\n",
    "\n",
    "def grad(w, xi, yi):\n",
    "#     print(xi.shape)\n",
    "    a = xi.dot(w)-yi\n",
    "    return (xi.T*a).reshape(2,1)\n",
    "    \n",
    "\n",
    "def SGD_Linear_Regression(w_init, eta):\n",
    "    w = [w_init]\n",
    "    EPOCHS = 10\n",
    "    count = 0\n",
    "    iter_check = 10\n",
    "    w_last_check = w_init\n",
    "    \n",
    "    for epoch in range(10):\n",
    "        \n",
    "        shuffle_id = np.random.permutation(N)\n",
    "        \n",
    "        for i in range(N):\n",
    "            count+=1\n",
    "            w_new = w[-1] - eta*grad(w[-1], Xbar[shuffle_id[i]], y[shuffle_id[i]])\n",
    "            w.append(w_new)\n",
    "            if count%iter_check == 0:\n",
    "                w_this_check = w_new\n",
    "                print(np.linalg.norm(w_this_check - w_last_check))\n",
    "                if np.linalg.norm(w_this_check - w_last_check)/len(w_init) < 1e-3:\n",
    "                    return w\n",
    "                w_last_check = w_this_check\n",
    "    \n",
    "    return w\n",
    "\n",
    "start_time = time.time()\n",
    "N = X.shape[0]\n",
    "w = np.array([[0], [1]], np.float64)\n",
    "\n",
    "w0 = SGD_Linear_Regression(w, 0.01)\n",
    "\n",
    "print(w0[-1])\n",
    "print(time.time()-start_time) "
   ]
  },
  {
   "cell_type": "code",
   "execution_count": null,
   "metadata": {},
   "outputs": [],
   "source": []
  },
  {
   "cell_type": "code",
   "execution_count": null,
   "metadata": {},
   "outputs": [],
   "source": []
  }
 ],
 "metadata": {
  "kernelspec": {
   "display_name": "Python 3",
   "language": "python",
   "name": "python3"
  },
  "language_info": {
   "codemirror_mode": {
    "name": "ipython",
    "version": 3
   },
   "file_extension": ".py",
   "mimetype": "text/x-python",
   "name": "python",
   "nbconvert_exporter": "python",
   "pygments_lexer": "ipython3",
   "version": "3.6.9"
  }
 },
 "nbformat": 4,
 "nbformat_minor": 2
}
