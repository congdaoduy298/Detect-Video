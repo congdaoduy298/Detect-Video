{
 "cells": [
  {
   "cell_type": "code",
   "execution_count": 1,
   "metadata": {},
   "outputs": [
    {
     "name": "stdout",
     "output_type": "stream",
     "text": [
      "Solution found by formula: w =  [[4.0071715  2.98225924]]\n"
     ]
    },
    {
     "data": {
      "text/plain": [
       "<Figure size 640x480 with 1 Axes>"
      ]
     },
     "metadata": {},
     "output_type": "display_data"
    }
   ],
   "source": [
    "# To support both python 2 and python 3\n",
    "from __future__ import division, print_function, unicode_literals\n",
    "import numpy as np \n",
    "import matplotlib\n",
    "import matplotlib.pyplot as plt\n",
    "np.random.seed(2)\n",
    "\n",
    "\n",
    "X = np.random.rand(1000, 1)\n",
    "y = 4 + 3 * X + .2*np.random.randn(1000, 1) # noise added\n",
    "\n",
    "# Building Xbar \n",
    "one = np.ones((X.shape[0],1))\n",
    "Xbar = np.concatenate((one, X), axis = 1)\n",
    "\n",
    "A = np.dot(Xbar.T, Xbar)\n",
    "b = np.dot(Xbar.T, y)\n",
    "w_lr = np.dot(np.linalg.pinv(A), b)\n",
    "print('Solution found by formula: w = ',w_lr.T)\n",
    "\n",
    "# Display result\n",
    "w = w_lr\n",
    "w_0 = w[0][0]\n",
    "w_1 = w[1][0]\n",
    "x0 = np.linspace(0, 1, 2, endpoint=True)\n",
    "y0 = w_0 + w_1*x0\n",
    "\n",
    "# Draw the fitting line \n",
    "plt.plot(X.T, y.T, 'b.')     # data \n",
    "plt.plot(x0, y0, 'y', linewidth = 2)   # the fitting line\n",
    "plt.axis([0, 1, 0, 10])\n",
    "plt.show()\n"
   ]
  },
  {
   "cell_type": "code",
   "execution_count": 34,
   "metadata": {},
   "outputs": [
    {
     "name": "stdout",
     "output_type": "stream",
     "text": [
      "1.3801157856714061\n",
      "0.5159530919447575\n",
      "0.19996627368531716\n",
      "0.0873548436785941\n",
      "0.026094672614617544\n",
      "0.014085265929971806\n",
      "0.0026638236003398716\n",
      "0.007144490825472659\n",
      "0.005285999130328911\n",
      "0.005422330039347271\n",
      "0.007219099274479732\n",
      "0.007916937992173419\n",
      "0.008601088655622322\n",
      "0.0017759103176647197\n",
      "0.0007782500312520657\n",
      "[[4.02300907]\n",
      " [2.98931705]]\n",
      "0.005797386169433594\n"
     ]
    }
   ],
   "source": [
    "import time \n",
    "\n",
    "def grad(w, xi, yi):\n",
    "    a = xi.dot(w)-yi\n",
    "    return (xi.T.dot(a)).reshape(2,1)\n",
    "    \n",
    "\n",
    "def Minibatch_GD_Linear_Regression(w_init, eta):\n",
    "    w = [w_init]\n",
    "    EPOCHS = 10\n",
    "    count = 0\n",
    "    iter_check = 10\n",
    "    w_last_check = w_init\n",
    "    batch_size = 50 \n",
    "    times = int(N/batch_size) + int(N%batch_size)\n",
    "    \n",
    "    for epoch in range(20):\n",
    "#         print(epoch)\n",
    "        shuffle_id = np.random.permutation(N)\n",
    "        \n",
    "        for i in range(times):\n",
    "            count+=1\n",
    "            \n",
    "            if count%times == 0:\n",
    "                mini_batch = N - batch_size*(times-1)\n",
    "            else:\n",
    "                mini_batch = batch_size\n",
    "#             print(i*batch_size, i*batch_size + mini_batch)\n",
    "\n",
    "            w_new = w[-1] - eta*grad(w[-1], Xbar[shuffle_id[i*batch_size: i*batch_size + mini_batch]], \n",
    "                                     y[shuffle_id[i*batch_size: i*batch_size + mini_batch]])\n",
    "    \n",
    "            w.append(w_new)\n",
    "            print(np.linalg.norm(w[-1] - w[-2])/len(w_init))\n",
    "            if np.linalg.norm(w[-1] - w[-2])/len(w_init) < 1e-3:\n",
    "                return w\n",
    "    \n",
    "    return w\n",
    "\n",
    "start_time = time.time()\n",
    "N = X.shape[0]\n",
    "w = np.array([[0], [1]], np.float64)\n",
    "\n",
    "w0 = Minibatch_GD_Linear_Regression(w, 0.01)\n",
    "\n",
    "print(w0[-1])\n",
    "print(time.time()-start_time)\n",
    "        "
   ]
  },
  {
   "cell_type": "code",
   "execution_count": null,
   "metadata": {},
   "outputs": [],
   "source": []
  }
 ],
 "metadata": {
  "kernelspec": {
   "display_name": "Python 3",
   "language": "python",
   "name": "python3"
  },
  "language_info": {
   "codemirror_mode": {
    "name": "ipython",
    "version": 3
   },
   "file_extension": ".py",
   "mimetype": "text/x-python",
   "name": "python",
   "nbconvert_exporter": "python",
   "pygments_lexer": "ipython3",
   "version": "3.6.9"
  }
 },
 "nbformat": 4,
 "nbformat_minor": 2
}
