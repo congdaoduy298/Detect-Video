{
 "cells": [
  {
   "cell_type": "code",
   "execution_count": 15,
   "metadata": {},
   "outputs": [
    {
     "name": "stdout",
     "output_type": "stream",
     "text": [
      "[9 0 0 ... 3 0 5]\n"
     ]
    },
    {
     "data": {
      "text/plain": [
       "array([[0., 0., 0., ..., 0., 0., 1.],\n",
       "       [1., 0., 0., ..., 0., 0., 0.],\n",
       "       [1., 0., 0., ..., 0., 0., 0.],\n",
       "       ...,\n",
       "       [0., 0., 0., ..., 0., 0., 0.],\n",
       "       [1., 0., 0., ..., 0., 0., 0.],\n",
       "       [0., 0., 0., ..., 0., 0., 0.]], dtype=float32)"
      ]
     },
     "execution_count": 15,
     "metadata": {},
     "output_type": "execute_result"
    }
   ],
   "source": [
    "from keras.datasets import fashion_mnist\n",
    "import numpy as np \n",
    "import keras \n",
    "\n",
    "(X_train, y_train), (X_test, y_test) = fashion_mnist.load_data()\n",
    "\n",
    "X_train = X_train/255.0\n",
    "X_test = X_test/255.0 \n",
    "num_classes = 10 \n",
    "# convert class vectors to binary class matrices\n",
    "print(y_train)\n",
    "y_train = keras.utils.to_categorical(y_train, num_classes)\n",
    "y_test = keras.utils.to_categorical(y_test, num_classes)\n",
    "y_train"
   ]
  },
  {
   "cell_type": "code",
   "execution_count": 12,
   "metadata": {},
   "outputs": [],
   "source": [
    "from keras.models import Sequential \n",
    "from keras.layers.core import Dense, Activation, Flatten\n",
    "from keras import optimizers, losses\n",
    "\n",
    "model = Sequential()\n",
    "model.add(Flatten(input_shape=(28, 28)))\n",
    "model.add(Dense(128, activation='relu'))\n",
    "model.add(Dense(256, activation='relu'))\n",
    "model.add(Dense(512, activation='relu'))\n",
    "\n",
    "model.add(Dense(10, activation='softmax'))\n",
    "\n",
    "model.compile(loss=losses.categorical_crossentropy, optimizer=optimizers.SGD(lr=0.1), metrics=['accuracy'])\n"
   ]
  },
  {
   "cell_type": "code",
   "execution_count": 13,
   "metadata": {},
   "outputs": [
    {
     "name": "stdout",
     "output_type": "stream",
     "text": [
      "Epoch 1/20\n",
      "60000/60000 [==============================] - 9s 149us/step - loss: 0.5473 - accuracy: 0.7998\n",
      "Epoch 2/20\n",
      "60000/60000 [==============================] - 8s 132us/step - loss: 0.3880 - accuracy: 0.8568\n",
      "Epoch 3/20\n",
      "60000/60000 [==============================] - 8s 134us/step - loss: 0.3460 - accuracy: 0.8708\n",
      "Epoch 4/20\n",
      "60000/60000 [==============================] - 8s 135us/step - loss: 0.3210 - accuracy: 0.8797\n",
      "Epoch 5/20\n",
      "60000/60000 [==============================] - 8s 135us/step - loss: 0.3018 - accuracy: 0.8866\n",
      "Epoch 6/20\n",
      "60000/60000 [==============================] - 8s 135us/step - loss: 0.2868 - accuracy: 0.8927\n",
      "Epoch 7/20\n",
      "60000/60000 [==============================] - 8s 136us/step - loss: 0.2736 - accuracy: 0.8970\n",
      "Epoch 8/20\n",
      "60000/60000 [==============================] - 8s 141us/step - loss: 0.2623 - accuracy: 0.9011\n",
      "Epoch 9/20\n",
      "60000/60000 [==============================] - 8s 140us/step - loss: 0.2531 - accuracy: 0.9043\n",
      "Epoch 10/20\n",
      "60000/60000 [==============================] - 8s 139us/step - loss: 0.2432 - accuracy: 0.9064\n",
      "Epoch 11/20\n",
      "60000/60000 [==============================] - 8s 132us/step - loss: 0.2328 - accuracy: 0.9113\n",
      "Epoch 12/20\n",
      "60000/60000 [==============================] - 8s 127us/step - loss: 0.2264 - accuracy: 0.9135\n",
      "Epoch 13/20\n",
      "60000/60000 [==============================] - 8s 137us/step - loss: 0.2205 - accuracy: 0.9160\n",
      "Epoch 14/20\n",
      "60000/60000 [==============================] - 8s 138us/step - loss: 0.2138 - accuracy: 0.9179\n",
      "Epoch 15/20\n",
      "60000/60000 [==============================] - 8s 138us/step - loss: 0.2062 - accuracy: 0.9209\n",
      "Epoch 16/20\n",
      "60000/60000 [==============================] - 8s 137us/step - loss: 0.1991 - accuracy: 0.9236\n",
      "Epoch 17/20\n",
      "60000/60000 [==============================] - 9s 145us/step - loss: 0.1909 - accuracy: 0.9265\n",
      "Epoch 18/20\n",
      "60000/60000 [==============================] - 8s 135us/step - loss: 0.1874 - accuracy: 0.9280\n",
      "Epoch 19/20\n",
      "60000/60000 [==============================] - 8s 141us/step - loss: 0.1793 - accuracy: 0.9313\n",
      "Epoch 20/20\n",
      "60000/60000 [==============================] - 8s 141us/step - loss: 0.1765 - accuracy: 0.9315\n"
     ]
    },
    {
     "data": {
      "text/plain": [
       "<keras.callbacks.callbacks.History at 0x7fa195ff3978>"
      ]
     },
     "execution_count": 13,
     "metadata": {},
     "output_type": "execute_result"
    }
   ],
   "source": [
    "model.fit(X_train, y_train, epochs=20)"
   ]
  },
  {
   "cell_type": "code",
   "execution_count": 16,
   "metadata": {},
   "outputs": [
    {
     "name": "stdout",
     "output_type": "stream",
     "text": [
      "[0.34634374499320986, 0.8885999917984009]\n"
     ]
    }
   ],
   "source": [
    "score = model.evaluate(X_test, y_test, verbose=0)\n",
    "print(score)"
   ]
  },
  {
   "cell_type": "code",
   "execution_count": null,
   "metadata": {},
   "outputs": [],
   "source": []
  }
 ],
 "metadata": {
  "kernelspec": {
   "display_name": "Python 3",
   "language": "python",
   "name": "python3"
  },
  "language_info": {
   "codemirror_mode": {
    "name": "ipython",
    "version": 3
   },
   "file_extension": ".py",
   "mimetype": "text/x-python",
   "name": "python",
   "nbconvert_exporter": "python",
   "pygments_lexer": "ipython3",
   "version": "3.6.9"
  }
 },
 "nbformat": 4,
 "nbformat_minor": 2
}
