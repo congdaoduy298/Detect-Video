{
 "cells": [
  {
   "cell_type": "code",
   "execution_count": 4,
   "metadata": {},
   "outputs": [
    {
     "data": {
      "image/png": "[encoded data removed]",
      "text/plain": [
       "<Figure size 432x288 with 1 Axes>"
      ]
     },
     "metadata": {
      "needs_background": "light"
     },
     "output_type": "display_data"
    }
   ],
   "source": [
    "import numpy as np \n",
    "import matplotlib.pyplot as plt \n",
    "\n",
    "N = 100\n",
    "d0 = 2\n",
    "C = 3 \n",
    "X = np.zeros((d0, N*C))\n",
    "y = np.zeros(N*C, dtype='uint8')\n",
    "\n",
    "for j in range(C):\n",
    "    ix = range(j*N, (j+1)*N)\n",
    "    r = np.linspace(0.0, 1, N)\n",
    "    t = np.linspace(j*4, (j+1)*4, N) + np.random.randn(N)*0.2\n",
    "    X[:, ix] = np.c_[r*np.sin(t), r*np.cos(t)].T\n",
    "    y[ix] = j\n",
    "\n",
    "plt.plot(X[0, :N], X[1, :N], 'bs', markersize=7)\n",
    "plt.plot(X[0, N:2*N], X[1, N:2*N], 'ro', markersize=7)\n",
    "plt.plot(X[0, 2*N:3*N], X[1, 2*N:3*N], 'g^', markersize=7)\n",
    "\n",
    "plt.axis([-1.5, 1.5, -1.5, 1.5])\n",
    "# plt.xlim([-1.5, 1.5])\n",
    "# plt.ylim([-1.5, 1.5])\n",
    "\n",
    "cur_axes = plt.gca()\n",
    "cur_axes.axes.get_xaxis().set_ticks([])\n",
    "cur_axes.axes.get_xaxis().set_ticks([])\n",
    "\n",
    "plt.savefig('EX.png', bbox_inches='tight', dpi=600)\n",
    "plt.show()"
   ]
  },
  {
   "cell_type": "code",
   "execution_count": 8,
   "metadata": {},
   "outputs": [],
   "source": [
    "def softmax(V):\n",
    "    eV = np.exp(V-np.max(V, axis=0, keepdims=True))\n",
    "    Z = eV/eV.sum(axis=0)\n",
    "    return Z\n",
    "\n",
    "from scipy.sparse import coo_matrix\n",
    "\n",
    "def convert_labels(y, C=3):\n",
    "    Y = coo_matrix((np.ones_like(y), (y, np.arange(len(y)))), shape=(C, len(y))).toarray()\n",
    "    return Y\n",
    "\n",
    "def cost(Y, Yhat):\n",
    "    return -np.sum(Y*np.log(Yhat))/Y.shape[1]\n"
   ]
  },
  {
   "cell_type": "code",
   "execution_count": 11,
   "metadata": {},
   "outputs": [
    {
     "name": "stdout",
     "output_type": "stream",
     "text": [
      "iter 0 : 1.098639\n",
      "iter 1000 : 0.130559\n",
      "iter 2000 : 0.052379\n",
      "iter 3000 : 0.037298\n",
      "iter 4000 : 0.030825\n",
      "iter 5000 : 0.027162\n",
      "iter 6000 : 0.024691\n",
      "iter 7000 : 0.022902\n",
      "iter 8000 : 0.021553\n",
      "iter 9000 : 0.020494\n"
     ]
    }
   ],
   "source": [
    "d0 = 2\n",
    "d1 = h = 100\n",
    "d2 = C = 3\n",
    "\n",
    "W1 = 0.01*np.random.randn(d0, d1)\n",
    "b1 = np.zeros((d1, 1))\n",
    "\n",
    "W2 = 0.01*np.random.randn(d1, d2)\n",
    "b2 = np.zeros((d2, 1))\n",
    "\n",
    "Y = convert_labels(y)\n",
    "N = X.shape[1]\n",
    "eta = 1\n",
    "for i in range(10000):\n",
    "    Z1 = W1.T.dot(X) + b1\n",
    "    A1 = np.maximum(Z1, 0)\n",
    "    Z2 = W2.T.dot(A1) + b2\n",
    "    Yhat = softmax(Z2)\n",
    "    \n",
    "    if i % 1000 == 0:\n",
    "        loss = cost(Y, Yhat)\n",
    "        print('iter %d : %f' %(i, loss))\n",
    "    \n",
    "    E2 = (Yhat-Y)/N\n",
    "    JW2 = np.dot(A1, E2.T)\n",
    "    Jb2 = E2.sum(axis=1, keepdims=True)\n",
    "    E1 = np.dot(W2, E2)\n",
    "    E1[Z1<=0] = 0\n",
    "    JW1 = np.dot(X, E1.T)\n",
    "    Jb1 = E1.sum(axis=1, keepdims=True)\n",
    "    \n",
    "    W1 -= eta*JW1\n",
    "    b1 -= eta*Jb1\n",
    "    W2 -= eta*JW2\n",
    "    b2 -= eta*Jb2\n"
   ]
  },
  {
   "cell_type": "code",
   "execution_count": 19,
   "metadata": {},
   "outputs": [
    {
     "name": "stdout",
     "output_type": "stream",
     "text": [
      "training accuracy 99.333333 %.\n"
     ]
    }
   ],
   "source": [
    "Z1 = np.dot(W1.T, X) + b1\n",
    "A1 = np.maximum(Z1, 0)\n",
    "Z2 = np.dot(W2.T, A1) + b2\n",
    "# print(Z2.shape)\n",
    "y_predict = np.argmax(Z2, axis=0)\n",
    "print('training accuracy %f %%.' %(100*np.mean(y_predict == y)))"
   ]
  },
  {
   "cell_type": "code",
   "execution_count": null,
   "metadata": {},
   "outputs": [],
   "source": []
  }
 ],
 "metadata": {
  "kernelspec": {
   "display_name": "Python 3",
   "language": "python",
   "name": "python3"
  },
  "language_info": {
   "codemirror_mode": {
    "name": "ipython",
    "version": 3
   },
   "file_extension": ".py",
   "mimetype": "text/x-python",
   "name": "python",
   "nbconvert_exporter": "python",
   "pygments_lexer": "ipython3",
   "version": "3.6.9"
  }
 },
 "nbformat": 4,
 "nbformat_minor": 2
}
