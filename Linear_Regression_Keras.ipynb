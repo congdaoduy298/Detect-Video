{
 "cells": [
  {
   "cell_type": "code",
   "execution_count": 9,
   "metadata": {},
   "outputs": [
    {
     "name": "stdout",
     "output_type": "stream",
     "text": [
      "Epoch 1/10\n",
      "100/100 [==============================] - 1s 11ms/step - loss: 2.2253\n",
      "Epoch 2/10\n",
      "100/100 [==============================] - 0s 608us/step - loss: 0.0404\n",
      "Epoch 3/10\n",
      "100/100 [==============================] - 0s 492us/step - loss: 0.0420\n",
      "Epoch 4/10\n",
      "100/100 [==============================] - 0s 486us/step - loss: 0.0413\n",
      "Epoch 5/10\n",
      "100/100 [==============================] - 0s 509us/step - loss: 0.0419\n",
      "Epoch 6/10\n",
      "100/100 [==============================] - 0s 484us/step - loss: 0.0393\n",
      "Epoch 7/10\n",
      "100/100 [==============================] - 0s 550us/step - loss: 0.0464\n",
      "Epoch 8/10\n",
      "100/100 [==============================] - 0s 450us/step - loss: 0.0426\n",
      "Epoch 9/10\n",
      "100/100 [==============================] - 0s 555us/step - loss: 0.0391\n",
      "Epoch 10/10\n",
      "100/100 [==============================] - 0s 848us/step - loss: 0.0432\n"
     ]
    },
    {
     "data": {
      "text/plain": [
       "<keras.callbacks.callbacks.History at 0x7f72abe89588>"
      ]
     },
     "execution_count": 9,
     "metadata": {},
     "output_type": "execute_result"
    }
   ],
   "source": [
    "# !pip install keras\n",
    "import numpy as np \n",
    "from keras.models import Sequential\n",
    "from keras.layers.core import Dense\n",
    "from keras import optimizers \n",
    "\n",
    "N = 100\n",
    "X = np.random.randn(N, 2)\n",
    "\n",
    "y = 2*X[:,0] + 3*X[:,1] + 4 + 0.2*np.random.randn(100)\n",
    "\n",
    "model = Sequential([Dense(1, input_shape=(2, ), activation='linear')])\n",
    "\n",
    "sgd = optimizers.SGD(lr=0.1)\n",
    "\n",
    "model.compile(loss='mse', optimizer=sgd)\n",
    "\n",
    "model.fit(X, y, epochs=10, batch_size=2)\n"
   ]
  },
  {
   "cell_type": "code",
   "execution_count": 11,
   "metadata": {},
   "outputs": [
    {
     "name": "stdout",
     "output_type": "stream",
     "text": [
      "[array([[1.9961023],\n",
      "       [2.962868 ]], dtype=float32), array([4.029995], dtype=float32)]\n"
     ]
    }
   ],
   "source": [
    "w = model.get_weights()\n",
    "\n",
    "print(w)"
   ]
  },
  {
   "cell_type": "code",
   "execution_count": null,
   "metadata": {},
   "outputs": [],
   "source": []
  }
 ],
 "metadata": {
  "kernelspec": {
   "display_name": "Python 3",
   "language": "python",
   "name": "python3"
  },
  "language_info": {
   "codemirror_mode": {
    "name": "ipython",
    "version": 3
   },
   "file_extension": ".py",
   "mimetype": "text/x-python",
   "name": "python",
   "nbconvert_exporter": "python",
   "pygments_lexer": "ipython3",
   "version": "3.6.9"
  }
 },
 "nbformat": 4,
 "nbformat_minor": 2
}
