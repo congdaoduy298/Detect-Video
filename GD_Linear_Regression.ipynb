{
 "cells": [
  {
   "cell_type": "code",
   "execution_count": 18,
   "metadata": {},
   "outputs": [
    {
     "name": "stdout",
     "output_type": "stream",
     "text": [
      "[[  1 147]\n",
      " [  1 150]\n",
      " [  1 153]\n",
      " [  1 158]\n",
      " [  1 163]\n",
      " [  1 165]\n",
      " [  1 168]\n",
      " [  1 170]\n",
      " [  1 173]\n",
      " [  1 175]\n",
      " [  1 178]\n",
      " [  1 180]\n",
      " [  1 183]]\n"
     ]
    }
   ],
   "source": [
    "import numpy as np \n",
    "\n",
    "X = np.array([[147, 150, 153, 158, 163, 165, 168, 170, 173, 175, 178, 180, 183]]).T\n",
    "y = np.array([[ 49, 50, 51,  54, 58, 59, 60, 62, 63, 64, 66, 67, 68]]).T\n",
    "\n",
    "ones = np.ones_like(X)\n",
    "lr = 1\n",
    "Xbar = np.concatenate((ones, X), axis=1)\n",
    "print(X_bar)"
   ]
  },
  {
   "cell_type": "code",
   "execution_count": 2,
   "metadata": {},
   "outputs": [
    {
     "name": "stdout",
     "output_type": "stream",
     "text": [
      "Solution found by formula: w =  [[4.0071715  2.98225924]]\n"
     ]
    },
    {
     "data": {
      "text/plain": [
       "<Figure size 640x480 with 1 Axes>"
      ]
     },
     "metadata": {},
     "output_type": "display_data"
    }
   ],
   "source": [
    "# To support both python 2 and python 3\n",
    "from __future__ import division, print_function, unicode_literals\n",
    "import numpy as np \n",
    "import matplotlib\n",
    "import matplotlib.pyplot as plt\n",
    "np.random.seed(2)\n",
    "\n",
    "\n",
    "X = np.random.rand(1000, 1)\n",
    "y = 4 + 3 * X + .2*np.random.randn(1000, 1) # noise added\n",
    "\n",
    "# Building Xbar \n",
    "one = np.ones((X.shape[0],1))\n",
    "Xbar = np.concatenate((one, X), axis = 1)\n",
    "\n",
    "A = np.dot(Xbar.T, Xbar)\n",
    "b = np.dot(Xbar.T, y)\n",
    "w_lr = np.dot(np.linalg.pinv(A), b)\n",
    "print('Solution found by formula: w = ',w_lr.T)\n",
    "\n",
    "# Display result\n",
    "w = w_lr\n",
    "w_0 = w[0][0]\n",
    "w_1 = w[1][0]\n",
    "x0 = np.linspace(0, 1, 2, endpoint=True)\n",
    "y0 = w_0 + w_1*x0\n",
    "\n",
    "# Draw the fitting line \n",
    "plt.plot(X.T, y.T, 'b.')     # data \n",
    "plt.plot(x0, y0, 'y', linewidth = 2)   # the fitting line\n",
    "plt.axis([0, 1, 0, 10])\n",
    "plt.show()\n"
   ]
  },
  {
   "cell_type": "code",
   "execution_count": 5,
   "metadata": {},
   "outputs": [
    {
     "name": "stdout",
     "output_type": "stream",
     "text": [
      "Using gradient decent for linear regression.\n",
      "Minimum value of loss function : 0.018982681441634244 at [[3.9845427  3.02567122]] in 999 interators\n",
      "0.07945585250854492\n"
     ]
    }
   ],
   "source": [
    "import time\n",
    "\n",
    "def loss(w):\n",
    "    return 1/(2*N)*np.linalg.norm(y-Xbar.dot(w), 2)**2\n",
    "\n",
    "def grad(w):\n",
    "    return 1/N * Xbar.T.dot(Xbar.dot(w)-y)\n",
    "\n",
    "\n",
    "def calc(w):\n",
    "    for it in range(1000):\n",
    "#         print(np.linalg.norm(grad(w), 2)/len(w))\n",
    "        if np.linalg.norm(grad(w), 2)/len(w)<1e-3:\n",
    "            break\n",
    "        w-= grad(w)*lr\n",
    "    return w, it\n",
    "\n",
    "lr = 0.01\n",
    "start_time = time.time()\n",
    "N = np.shape(Xbar)[0]\n",
    "w = np.array([[0], [1]], np.float64)\n",
    "w, it = calc(w)\n",
    "print('Using gradient decent for linear regression.')\n",
    "print('Minimum value of loss function : {} at {} in {} interators'.format(loss(w), w.T, it))\n",
    "print(time.time()-start_time)"
   ]
  },
  {
   "cell_type": "code",
   "execution_count": null,
   "metadata": {},
   "outputs": [],
   "source": []
  },
  {
   "cell_type": "code",
   "execution_count": null,
   "metadata": {},
   "outputs": [],
   "source": []
  }
 ],
 "metadata": {
  "kernelspec": {
   "display_name": "Python 3",
   "language": "python",
   "name": "python3"
  },
  "language_info": {
   "codemirror_mode": {
    "name": "ipython",
    "version": 3
   },
   "file_extension": ".py",
   "mimetype": "text/x-python",
   "name": "python",
   "nbconvert_exporter": "python",
   "pygments_lexer": "ipython3",
   "version": "3.6.9"
  }
 },
 "nbformat": 4,
 "nbformat_minor": 2
}
