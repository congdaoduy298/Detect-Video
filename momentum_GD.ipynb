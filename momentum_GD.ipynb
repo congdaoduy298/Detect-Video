{
 "cells": [
  {
   "cell_type": "code",
   "execution_count": 9,
   "metadata": {},
   "outputs": [
    {
     "name": "stdout",
     "output_type": "stream",
     "text": [
      "Minumum value of function: -7.712090 at x = -1.104332 in 49 interators\n"
     ]
    }
   ],
   "source": [
    "import numpy as np \n",
    "\n",
    "def grad(x):\n",
    "    return 2*x+10*np.cos(x)\n",
    "\n",
    "def cost(x):\n",
    "    return x*x+10*np.sin(x)\n",
    "\n",
    "def momentum_GD(gama, x, eta):\n",
    "    v = 0\n",
    "    for it in range(50):\n",
    "        if abs(grad(x))<1e-3:\n",
    "            break\n",
    "        v = gama*v+eta*grad(x)\n",
    "#         print(grad(x), v)\n",
    "        x -= v\n",
    "    return x, it\n",
    "\n",
    "x, it = momentum_GD(.9, 5, .1)\n",
    "\n",
    "print('Minumum value of function: %f at x = %f in %d interators' %(cost(x), x, it))\n"
   ]
  },
  {
   "cell_type": "code",
   "execution_count": null,
   "metadata": {},
   "outputs": [],
   "source": []
  }
 ],
 "metadata": {
  "kernelspec": {
   "display_name": "Python 3",
   "language": "python",
   "name": "python3"
  },
  "language_info": {
   "codemirror_mode": {
    "name": "ipython",
    "version": 3
   },
   "file_extension": ".py",
   "mimetype": "text/x-python",
   "name": "python",
   "nbconvert_exporter": "python",
   "pygments_lexer": "ipython3",
   "version": "3.6.9"
  }
 },
 "nbformat": 4,
 "nbformat_minor": 2
}
