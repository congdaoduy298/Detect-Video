{
 "cells": [
  {
   "cell_type": "code",
   "execution_count": 15,
   "metadata": {},
   "outputs": [
    {
     "name": "stdout",
     "output_type": "stream",
     "text": [
      "Approximately the minimum value of function -3.2464 at x = -1.1105 after 36 iterators\n",
      "Approximately the minimum value of function -3.2464 at x = -1.1105 after 18 iterators\n"
     ]
    }
   ],
   "source": [
    "import numpy as np \n",
    "\n",
    "lr = 0.1\n",
    "\n",
    "def function(x):\n",
    "    return x*x + 5*np.sin(x)\n",
    "\n",
    "def grad(x):\n",
    "    return 2*x + 5*np.cos(x)\n",
    "\n",
    "def grad_decent(x):\n",
    "    it = 0\n",
    "    while True:\n",
    "        if abs(grad(x))<1e-6:\n",
    "            break\n",
    "        x -= grad(x)*lr\n",
    "        it+=1\n",
    "    return x, it\n",
    "\n",
    "x, it = grad_decent(5)\n",
    "print(\"Approximately the minimum value of function %.4f at x = %.4f after %d iterators\" %(function(x), x, it))\n",
    "\n",
    "x, it = grad_decent(-5)\n",
    "print(\"Approximately the minimum value of function %.4f at x = %.4f after %d iterators\" %(function(x), x, it))"
   ]
  },
  {
   "cell_type": "code",
   "execution_count": null,
   "metadata": {},
   "outputs": [],
   "source": []
  }
 ],
 "metadata": {
  "kernelspec": {
   "display_name": "Python 3",
   "language": "python",
   "name": "python3"
  },
  "language_info": {
   "codemirror_mode": {
    "name": "ipython",
    "version": 3
   },
   "file_extension": ".py",
   "mimetype": "text/x-python",
   "name": "python",
   "nbconvert_exporter": "python",
   "pygments_lexer": "ipython3",
   "version": "3.6.9"
  }
 },
 "nbformat": 4,
 "nbformat_minor": 2
}
