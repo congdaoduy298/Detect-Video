{
 "cells": [
  {
   "cell_type": "code",
   "execution_count": 2,
   "metadata": {},
   "outputs": [],
   "source": [
    "import numpy as np\n",
    "N = 2 \n",
    "d = 2 \n",
    "C = 3\n",
    "\n",
    "X = np.random.randn(d, N)\n",
    "y = np.random.randint(0, 3, (N, ))\n"
   ]
  },
  {
   "cell_type": "code",
   "execution_count": 3,
   "metadata": {},
   "outputs": [
    {
     "name": "stdout",
     "output_type": "stream",
     "text": [
      "[2 0]\n",
      "------------\n",
      "[[0 1]\n",
      " [0 0]\n",
      " [1 0]]\n"
     ]
    }
   ],
   "source": [
    "from scipy import sparse\n",
    "\n",
    "def convert_labels(y, C = C):\n",
    "    \n",
    "    Y = sparse.coo_matrix((np.ones_like(y), \n",
    "                           (y, np.arange(len(y)))), shape=(C, len(y))).toarray()\n",
    "    return Y\n",
    "\n",
    "Y = convert_labels(y, C)\n",
    "print(y)\n",
    "print('------------')\n",
    "print(Y)"
   ]
  },
  {
   "cell_type": "code",
   "execution_count": 4,
   "metadata": {},
   "outputs": [
    {
     "name": "stdout",
     "output_type": "stream",
     "text": [
      "3.825997926682201e-10\n"
     ]
    }
   ],
   "source": [
    "def cost(W, X, Y):\n",
    "    A = softmax(W.T.dot(X))\n",
    "    return -np.sum(Y*np.log(A))\n",
    "\n",
    "def softmax(Z):\n",
    "    e_Z = np.exp(Z)\n",
    "    A = e_Z/e_Z.sum(axis=0)\n",
    "    return A\n",
    "\n",
    "# We should only check with small data \n",
    "def grad(W, X, Y):\n",
    "    A = softmax(W.T.dot(X))\n",
    "    E = A - Y\n",
    "    return X.dot(E.T)\n",
    "\n",
    "def numerical_gradient(W):\n",
    "    eps = 1e-6\n",
    "    g = np.zeros_like(W)\n",
    "    \n",
    "    for i in range(W.shape[0]):\n",
    "        for j in range(W.shape[1]):\n",
    "            W_p = W.copy()\n",
    "            W_n = W.copy()\n",
    "            W_p[i, j] = W_p[i, j] + eps\n",
    "            W_n[i, j] = W_n[i, j] - eps\n",
    "            g[i, j] = (cost(W_p, X, Y) - cost(W_n, X, Y))/(2*eps)\n",
    "    \n",
    "    return g\n",
    "\n",
    "W_init = np.random.randn(d, C)\n",
    "\n",
    "g1 = grad(W_init, X, Y)\n",
    "g2 = numerical_gradient(W_init)\n",
    "\n",
    "print(np.linalg.norm(g1-g2))\n"
   ]
  },
  {
   "cell_type": "code",
   "execution_count": 5,
   "metadata": {},
   "outputs": [
    {
     "name": "stdout",
     "output_type": "stream",
     "text": [
      "[[-3.79820755 -0.2186487   3.73601648]\n",
      " [-3.26943011  1.82769295  3.27040497]]\n"
     ]
    }
   ],
   "source": [
    "def softmax_regression(W_init, X, y, eta, tol=1e-4, max_count=10000):\n",
    "    W = [W_init]\n",
    "    count = 0\n",
    "    check_after = 20\n",
    "    Y = convert_labels(y, C)\n",
    "    N = X.shape[1]\n",
    "    d = X.shape[0]\n",
    "    \n",
    "    while count<max_count:\n",
    "        rd_id = np.random.permutation(N)\n",
    "        for i in rd_id:\n",
    "            count+=1 \n",
    "#             print(X[:, i], d)\n",
    "            xi = X[:, i].reshape(d, 1)\n",
    "            yi = Y[:, i].reshape(C, 1)\n",
    "            ai = softmax(W[-1].T.dot(xi))\n",
    "            W_new = W[-1] + eta*xi.dot((yi-ai).T)\n",
    "            W.append(W_new)\n",
    "            if count%check_after == 0:\n",
    "#                 print(count, check_after)\n",
    "                if np.linalg.norm(W[-1] - W[-check_after]) < tol:\n",
    "                    return W\n",
    "    \n",
    "    return W\n",
    "\n",
    "eta = .05\n",
    "d = X.shape[0]\n",
    "W_init = np.random.randn(d, C)\n",
    "\n",
    "W = softmax_regression(W_init, X, y, eta)\n",
    "\n",
    "print(W[-1])"
   ]
  },
  {
   "cell_type": "code",
   "execution_count": 6,
   "metadata": {},
   "outputs": [
    {
     "name": "stdout",
     "output_type": "stream",
     "text": [
      "[2 0]\n"
     ]
    }
   ],
   "source": [
    "def softmax_stable(Z):\n",
    "    c = np.max(Z, axis=0, keepdims=True)\n",
    "    e_Z = np.exp(Z-c)\n",
    "    A = e_Z/e_Z.sum(axis=0)\n",
    "    return A\n",
    "\n",
    "def pred(W, X):\n",
    "    A = softmax_stable(W.T.dot(X))\n",
    "    return np.argmax(A, axis=0)\n",
    "\n",
    "print(pred(W[-1], X))"
   ]
  },
  {
   "cell_type": "code",
   "execution_count": 9,
   "metadata": {},
   "outputs": [],
   "source": [
    "means = [[2, 2], [8, 3], [3, 6]]\n",
    "cov = [[1, 0], [0, 1]]\n",
    "N = 500\n",
    "X0 = np.random.multivariate_normal(means[0], cov, N)\n",
    "X1 = np.random.multivariate_normal(means[1], cov, N)\n",
    "X2 = np.random.multivariate_normal(means[2], cov, N)\n",
    "\n",
    "X = np.concatenate((X0, X1, X2), axis=0).T\n",
    "# print(X)\n",
    "X = np.concatenate((np.ones((1, 3*N)), X), axis=0)\n",
    "\n",
    "C = 3\n",
    "original_label = np.asarray([0]*N + [1]*N + [2]*N).T"
   ]
  },
  {
   "cell_type": "code",
   "execution_count": 18,
   "metadata": {},
   "outputs": [
    {
     "data": {
      "image/png": "[encoded data removed]",
      "text/plain": [
       "<Figure size 432x288 with 1 Axes>"
      ]
     },
     "metadata": {
      "needs_background": "light"
     },
     "output_type": "display_data"
    }
   ],
   "source": [
    "import matplotlib.pyplot as plt \n",
    "    \n",
    "plt.plot(X0[:, 0], X0[:, 1], 'b^', markersize=8)\n",
    "plt.plot(X1[:, 0], X1[:, 1], 'go', markersize=8)\n",
    "plt.plot(X2[:, 0], X2[:, 1], 'rs', markersize=8)\n",
    "\n",
    "plt.show()"
   ]
  },
  {
   "cell_type": "code",
   "execution_count": 19,
   "metadata": {},
   "outputs": [
    {
     "name": "stdout",
     "output_type": "stream",
     "text": [
      "[[ 8.40395706 -4.04130831 -3.68733244]\n",
      " [-0.72853521  2.05616443 -0.31572722]\n",
      " [-0.11544196 -0.14939111  2.69982196]]\n"
     ]
    }
   ],
   "source": [
    "W_init = np.random.randn(X.shape[0], C)\n",
    "\n",
    "W = softmax_regression(W_init, X, original_label, eta)\n",
    "\n",
    "print(W[-1])"
   ]
  },
  {
   "cell_type": "code",
   "execution_count": null,
   "metadata": {},
   "outputs": [],
   "source": []
  }
 ],
 "metadata": {
  "kernelspec": {
   "display_name": "Python 3",
   "language": "python",
   "name": "python3"
  },
  "language_info": {
   "codemirror_mode": {
    "name": "ipython",
    "version": 3
   },
   "file_extension": ".py",
   "mimetype": "text/x-python",
   "name": "python",
   "nbconvert_exporter": "python",
   "pygments_lexer": "ipython3",
   "version": "3.6.9"
  }
 },
 "nbformat": 4,
 "nbformat_minor": 2
}
