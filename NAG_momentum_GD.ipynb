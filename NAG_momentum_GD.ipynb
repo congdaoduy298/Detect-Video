{
 "cells": [
  {
   "cell_type": "code",
   "execution_count": 6,
   "metadata": {},
   "outputs": [
    {
     "name": "stdout",
     "output_type": "stream",
     "text": [
      "Minumum value of function -7.945823 at x = -1.306496 in 20 interators.\n"
     ]
    }
   ],
   "source": [
    "import numpy as np \n",
    "\n",
    "def cost(x):\n",
    "    return x*x + 10*np.sin(x)\n",
    "\n",
    "def grad(x):\n",
    "    return 2*x + 10*np.cos(x)\n",
    "\n",
    "def NAG_momentum_GD(x, gama, eta):\n",
    "    v = 0\n",
    "    for it in range(5000):\n",
    "        if abs(grad(x))<1e-3:\n",
    "            break\n",
    "        v = gama*v + eta*grad(x - gama*v)\n",
    "        x-= v\n",
    "    \n",
    "    return x, it\n",
    "\n",
    "x, it = NAG_momentum_GD(5, .9, .1)\n",
    "\n",
    "print('Minumum value of function %f at x = %f in %d interators.' %(cost(x), x, it))"
   ]
  },
  {
   "cell_type": "code",
   "execution_count": null,
   "metadata": {},
   "outputs": [],
   "source": []
  }
 ],
 "metadata": {
  "kernelspec": {
   "display_name": "Python 3",
   "language": "python",
   "name": "python3"
  },
  "language_info": {
   "codemirror_mode": {
    "name": "ipython",
    "version": 3
   },
   "file_extension": ".py",
   "mimetype": "text/x-python",
   "name": "python",
   "nbconvert_exporter": "python",
   "pygments_lexer": "ipython3",
   "version": "3.6.9"
  }
 },
 "nbformat": 4,
 "nbformat_minor": 2
}
